{
  "nbformat": 4,
  "nbformat_minor": 0,
  "metadata": {
    "colab": {
      "provenance": []
    },
    "kernelspec": {
      "name": "python3",
      "display_name": "Python 3"
    },
    "language_info": {
      "name": "python"
    }
  },
  "cells": [
    {
      "cell_type": "markdown",
      "source": [
        "## 1.1 link colab with google drive"
      ],
      "metadata": {
        "id": "WePjvYV38cnx"
      }
    },
    {
      "cell_type": "code",
      "execution_count": null,
      "metadata": {
        "id": "-_-DGN8TtSBS",
        "colab": {
          "base_uri": "https://localhost:8080/"
        },
        "outputId": "2052cfa9-7f05-4c12-df65-c6140b16bcd3"
      },
      "outputs": [
        {
          "output_type": "stream",
          "name": "stdout",
          "text": [
            "Mounted at /content/gdrive\n"
          ]
        }
      ],
      "source": [
        "from google.colab import drive\n",
        "drive.mount('/content/gdrive')"
      ]
    },
    {
      "cell_type": "markdown",
      "source": [
        "# data prepocessing"
      ],
      "metadata": {
        "id": "BLXbhDmCL0FQ"
      }
    },
    {
      "cell_type": "markdown",
      "source": [
        "##2.1 import some basic libraries and read dataset\n"
      ],
      "metadata": {
        "id": "fNdTHUwL8weF"
      }
    },
    {
      "cell_type": "code",
      "source": [
        "import pandas as pd #thoes libraries are allowed to use.\n",
        "import numpy as np\n",
        "from math import log\n",
        "import matplotlib.pyplot as plt\n",
        "import operator\n",
        "import sys\n",
        "!pip install pandas scikit-learn\n",
        "#read dataset, this dataset has been upload to my google drive.\n",
        "dataset = pd.read_csv('/content/gdrive/MyDrive/Pro_Studio_B/DataCSV.csv')"
      ],
      "metadata": {
        "colab": {
          "base_uri": "https://localhost:8080/"
        },
        "id": "RMLbq2SY8zOH",
        "outputId": "3724f4ec-17b2-45d6-ac81-0fe1e04a25fe"
      },
      "execution_count": null,
      "outputs": [
        {
          "output_type": "stream",
          "name": "stdout",
          "text": [
            "Looking in indexes: https://pypi.org/simple, https://us-python.pkg.dev/colab-wheels/public/simple/\n",
            "Requirement already satisfied: pandas in /usr/local/lib/python3.10/dist-packages (1.5.3)\n",
            "Requirement already satisfied: scikit-learn in /usr/local/lib/python3.10/dist-packages (1.2.2)\n",
            "Requirement already satisfied: python-dateutil>=2.8.1 in /usr/local/lib/python3.10/dist-packages (from pandas) (2.8.2)\n",
            "Requirement already satisfied: pytz>=2020.1 in /usr/local/lib/python3.10/dist-packages (from pandas) (2022.7.1)\n",
            "Requirement already satisfied: numpy>=1.21.0 in /usr/local/lib/python3.10/dist-packages (from pandas) (1.22.4)\n",
            "Requirement already satisfied: threadpoolctl>=2.0.0 in /usr/local/lib/python3.10/dist-packages (from scikit-learn) (3.1.0)\n",
            "Requirement already satisfied: joblib>=1.1.1 in /usr/local/lib/python3.10/dist-packages (from scikit-learn) (1.2.0)\n",
            "Requirement already satisfied: scipy>=1.3.2 in /usr/local/lib/python3.10/dist-packages (from scikit-learn) (1.10.1)\n",
            "Requirement already satisfied: six>=1.5 in /usr/local/lib/python3.10/dist-packages (from python-dateutil>=2.8.1->pandas) (1.16.0)\n"
          ]
        }
      ]
    },
    {
      "cell_type": "markdown",
      "source": [
        "##2.2 data insight view"
      ],
      "metadata": {
        "id": "WbVC6wF69Skp"
      }
    },
    {
      "cell_type": "code",
      "source": [
        "#check for any missing here\n",
        "dataset.isnull().sum()"
      ],
      "metadata": {
        "colab": {
          "base_uri": "https://localhost:8080/"
        },
        "id": "__duYHdd9TYu",
        "outputId": "f6d88cd9-69ed-4b02-af6a-46e82785653b"
      },
      "execution_count": null,
      "outputs": [
        {
          "output_type": "execute_result",
          "data": {
            "text/plain": [
              "name                         0\n",
              "id                           0\n",
              "major                        0\n",
              "course level                 0\n",
              "first technical skill        0\n",
              "second technical skill       0\n",
              "first non-technical skill    0\n",
              "second non-technicalskill    0\n",
              "dtype: int64"
            ]
          },
          "metadata": {},
          "execution_count": 3
        }
      ]
    },
    {
      "cell_type": "code",
      "source": [
        "for column in dataset.columns:\n",
        "    print(f\"{column}: {dataset[column].unique()}\")\n"
      ],
      "metadata": {
        "colab": {
          "base_uri": "https://localhost:8080/"
        },
        "id": "-bIFC-MFSdEQ",
        "outputId": "a6c79b8d-13ff-4e66-c0ff-f6d23a630e99"
      },
      "execution_count": null,
      "outputs": [
        {
          "output_type": "stream",
          "name": "stdout",
          "text": [
            "name: ['Emma' 'Ethan' 'Ava' 'William' 'Sophia' 'James' 'Isabella' 'Oliver' 'Mia'\n",
            " 'Benjamin' 'Charlotte' 'Elijah' 'Amelia' 'Lucas' 'Harper' 'Alexander'\n",
            " 'Evelyn' 'Jackson' 'Abigail' 'Samuel']\n",
            "id: [12345678 17852364 19283746 19827356 18765432 14567890 10928374 12348765\n",
            " 19827364 13456789 10293847 16789032 19876543 14567893 12378956 18765439\n",
            " 19827345 19827654 14567891 19827456]\n",
            "major: ['Computer Science' 'Electrical Engineering' 'Data Engineering'\n",
            " 'Mechanical Engineering']\n",
            "course level: ['fundamental A' 'application A' 'professional A' 'fundamental B'\n",
            " 'application B' 'professional B']\n",
            "first technical skill: ['data visualization' 'UI development' 'machine learning' 'database'\n",
            " 'python' 'neural network' 'signalology']\n",
            "second technical skill: ['machine learning' 'neural network' 'data visualization' 'database'\n",
            " 'UI development' 'signalology']\n",
            "first non-technical skill: ['time management' 'Teamwork' 'Leadership' 'Technical report writing'\n",
            " 'Market analysis']\n",
            "second non-technicalskill: ['Teamwork' 'Technical report writing' 'Time management' 'Market analysis'\n",
            " 'Leadership' 'Requirement analysis' 'time management']\n"
          ]
        }
      ]
    },
    {
      "cell_type": "code",
      "source": [
        "#look inside the dataset\n",
        "dataset[:20]"
      ],
      "metadata": {
        "colab": {
          "base_uri": "https://localhost:8080/",
          "height": 981
        },
        "id": "2gyArze-9ZiK",
        "outputId": "1cb06a3e-7343-404a-be98-122e86de6a6d"
      },
      "execution_count": null,
      "outputs": [
        {
          "output_type": "execute_result",
          "data": {
            "text/plain": [
              "         name        id                   major    course level  \\\n",
              "0        Emma  12345678        Computer Science   fundamental A   \n",
              "1       Ethan  17852364  Electrical Engineering   application A   \n",
              "2         Ava  19283746  Electrical Engineering   fundamental A   \n",
              "3     William  19827356        Computer Science  professional A   \n",
              "4      Sophia  18765432        Data Engineering   application A   \n",
              "5       James  14567890  Mechanical Engineering   fundamental B   \n",
              "6    Isabella  10928374  Mechanical Engineering  professional A   \n",
              "7      Oliver  12348765        Data Engineering  professional A   \n",
              "8         Mia  19827364        Computer Science   fundamental B   \n",
              "9    Benjamin  13456789  Electrical Engineering   application B   \n",
              "10  Charlotte  10293847        Data Engineering   application B   \n",
              "11     Elijah  16789032  Electrical Engineering   fundamental B   \n",
              "12     Amelia  19876543  Electrical Engineering   application B   \n",
              "13      Lucas  14567893  Mechanical Engineering   application A   \n",
              "14     Harper  12378956        Computer Science  professional B   \n",
              "15  Alexander  18765439  Mechanical Engineering   fundamental A   \n",
              "16     Evelyn  19827345  Mechanical Engineering  professional B   \n",
              "17    Jackson  19827654        Data Engineering  professional B   \n",
              "18    Abigail  14567891  Mechanical Engineering   application A   \n",
              "19     Samuel  19827456  Electrical Engineering   application B   \n",
              "\n",
              "   first technical skill second technical skill first non-technical skill  \\\n",
              "0     data visualization       machine learning           time management   \n",
              "1         UI development         neural network                  Teamwork   \n",
              "2       machine learning     data visualization                  Teamwork   \n",
              "3               database         neural network                Leadership   \n",
              "4       machine learning               database  Technical report writing   \n",
              "5                 python     data visualization           time management   \n",
              "6         neural network         UI development  Technical report writing   \n",
              "7         UI development         neural network                Leadership   \n",
              "8     data visualization            signalology           time management   \n",
              "9            signalology         UI development  Technical report writing   \n",
              "10      machine learning               database                Leadership   \n",
              "11      machine learning         UI development           Market analysis   \n",
              "12              database       machine learning  Technical report writing   \n",
              "13           signalology         neural network                  Teamwork   \n",
              "14        neural network               database                Leadership   \n",
              "15    data visualization       machine learning           time management   \n",
              "16        neural network               database  Technical report writing   \n",
              "17        neural network       machine learning                Leadership   \n",
              "18              database         UI development           time management   \n",
              "19      machine learning               database  Technical report writing   \n",
              "\n",
              "   second non-technicalskill  \n",
              "0                   Teamwork  \n",
              "1   Technical report writing  \n",
              "2            Time management  \n",
              "3   Technical report writing  \n",
              "4            Market analysis  \n",
              "5   Technical report writing  \n",
              "6                 Leadership  \n",
              "7       Requirement analysis  \n",
              "8            Market analysis  \n",
              "9                 Leadership  \n",
              "10  Technical report writing  \n",
              "11                  Teamwork  \n",
              "12           time management  \n",
              "13      Requirement analysis  \n",
              "14  Technical report writing  \n",
              "15           Market analysis  \n",
              "16                Leadership  \n",
              "17           Market analysis  \n",
              "18      Requirement analysis  \n",
              "19                  Teamwork  "
            ],
            "text/html": [
              "\n",
              "  <div id=\"df-85708a2b-c54a-4ca5-9d20-6c0ddd027563\">\n",
              "    <div class=\"colab-df-container\">\n",
              "      <div>\n",
              "<style scoped>\n",
              "    .dataframe tbody tr th:only-of-type {\n",
              "        vertical-align: middle;\n",
              "    }\n",
              "\n",
              "    .dataframe tbody tr th {\n",
              "        vertical-align: top;\n",
              "    }\n",
              "\n",
              "    .dataframe thead th {\n",
              "        text-align: right;\n",
              "    }\n",
              "</style>\n",
              "<table border=\"1\" class=\"dataframe\">\n",
              "  <thead>\n",
              "    <tr style=\"text-align: right;\">\n",
              "      <th></th>\n",
              "      <th>name</th>\n",
              "      <th>id</th>\n",
              "      <th>major</th>\n",
              "      <th>course level</th>\n",
              "      <th>first technical skill</th>\n",
              "      <th>second technical skill</th>\n",
              "      <th>first non-technical skill</th>\n",
              "      <th>second non-technicalskill</th>\n",
              "    </tr>\n",
              "  </thead>\n",
              "  <tbody>\n",
              "    <tr>\n",
              "      <th>0</th>\n",
              "      <td>Emma</td>\n",
              "      <td>12345678</td>\n",
              "      <td>Computer Science</td>\n",
              "      <td>fundamental A</td>\n",
              "      <td>data visualization</td>\n",
              "      <td>machine learning</td>\n",
              "      <td>time management</td>\n",
              "      <td>Teamwork</td>\n",
              "    </tr>\n",
              "    <tr>\n",
              "      <th>1</th>\n",
              "      <td>Ethan</td>\n",
              "      <td>17852364</td>\n",
              "      <td>Electrical Engineering</td>\n",
              "      <td>application A</td>\n",
              "      <td>UI development</td>\n",
              "      <td>neural network</td>\n",
              "      <td>Teamwork</td>\n",
              "      <td>Technical report writing</td>\n",
              "    </tr>\n",
              "    <tr>\n",
              "      <th>2</th>\n",
              "      <td>Ava</td>\n",
              "      <td>19283746</td>\n",
              "      <td>Electrical Engineering</td>\n",
              "      <td>fundamental A</td>\n",
              "      <td>machine learning</td>\n",
              "      <td>data visualization</td>\n",
              "      <td>Teamwork</td>\n",
              "      <td>Time management</td>\n",
              "    </tr>\n",
              "    <tr>\n",
              "      <th>3</th>\n",
              "      <td>William</td>\n",
              "      <td>19827356</td>\n",
              "      <td>Computer Science</td>\n",
              "      <td>professional A</td>\n",
              "      <td>database</td>\n",
              "      <td>neural network</td>\n",
              "      <td>Leadership</td>\n",
              "      <td>Technical report writing</td>\n",
              "    </tr>\n",
              "    <tr>\n",
              "      <th>4</th>\n",
              "      <td>Sophia</td>\n",
              "      <td>18765432</td>\n",
              "      <td>Data Engineering</td>\n",
              "      <td>application A</td>\n",
              "      <td>machine learning</td>\n",
              "      <td>database</td>\n",
              "      <td>Technical report writing</td>\n",
              "      <td>Market analysis</td>\n",
              "    </tr>\n",
              "    <tr>\n",
              "      <th>5</th>\n",
              "      <td>James</td>\n",
              "      <td>14567890</td>\n",
              "      <td>Mechanical Engineering</td>\n",
              "      <td>fundamental B</td>\n",
              "      <td>python</td>\n",
              "      <td>data visualization</td>\n",
              "      <td>time management</td>\n",
              "      <td>Technical report writing</td>\n",
              "    </tr>\n",
              "    <tr>\n",
              "      <th>6</th>\n",
              "      <td>Isabella</td>\n",
              "      <td>10928374</td>\n",
              "      <td>Mechanical Engineering</td>\n",
              "      <td>professional A</td>\n",
              "      <td>neural network</td>\n",
              "      <td>UI development</td>\n",
              "      <td>Technical report writing</td>\n",
              "      <td>Leadership</td>\n",
              "    </tr>\n",
              "    <tr>\n",
              "      <th>7</th>\n",
              "      <td>Oliver</td>\n",
              "      <td>12348765</td>\n",
              "      <td>Data Engineering</td>\n",
              "      <td>professional A</td>\n",
              "      <td>UI development</td>\n",
              "      <td>neural network</td>\n",
              "      <td>Leadership</td>\n",
              "      <td>Requirement analysis</td>\n",
              "    </tr>\n",
              "    <tr>\n",
              "      <th>8</th>\n",
              "      <td>Mia</td>\n",
              "      <td>19827364</td>\n",
              "      <td>Computer Science</td>\n",
              "      <td>fundamental B</td>\n",
              "      <td>data visualization</td>\n",
              "      <td>signalology</td>\n",
              "      <td>time management</td>\n",
              "      <td>Market analysis</td>\n",
              "    </tr>\n",
              "    <tr>\n",
              "      <th>9</th>\n",
              "      <td>Benjamin</td>\n",
              "      <td>13456789</td>\n",
              "      <td>Electrical Engineering</td>\n",
              "      <td>application B</td>\n",
              "      <td>signalology</td>\n",
              "      <td>UI development</td>\n",
              "      <td>Technical report writing</td>\n",
              "      <td>Leadership</td>\n",
              "    </tr>\n",
              "    <tr>\n",
              "      <th>10</th>\n",
              "      <td>Charlotte</td>\n",
              "      <td>10293847</td>\n",
              "      <td>Data Engineering</td>\n",
              "      <td>application B</td>\n",
              "      <td>machine learning</td>\n",
              "      <td>database</td>\n",
              "      <td>Leadership</td>\n",
              "      <td>Technical report writing</td>\n",
              "    </tr>\n",
              "    <tr>\n",
              "      <th>11</th>\n",
              "      <td>Elijah</td>\n",
              "      <td>16789032</td>\n",
              "      <td>Electrical Engineering</td>\n",
              "      <td>fundamental B</td>\n",
              "      <td>machine learning</td>\n",
              "      <td>UI development</td>\n",
              "      <td>Market analysis</td>\n",
              "      <td>Teamwork</td>\n",
              "    </tr>\n",
              "    <tr>\n",
              "      <th>12</th>\n",
              "      <td>Amelia</td>\n",
              "      <td>19876543</td>\n",
              "      <td>Electrical Engineering</td>\n",
              "      <td>application B</td>\n",
              "      <td>database</td>\n",
              "      <td>machine learning</td>\n",
              "      <td>Technical report writing</td>\n",
              "      <td>time management</td>\n",
              "    </tr>\n",
              "    <tr>\n",
              "      <th>13</th>\n",
              "      <td>Lucas</td>\n",
              "      <td>14567893</td>\n",
              "      <td>Mechanical Engineering</td>\n",
              "      <td>application A</td>\n",
              "      <td>signalology</td>\n",
              "      <td>neural network</td>\n",
              "      <td>Teamwork</td>\n",
              "      <td>Requirement analysis</td>\n",
              "    </tr>\n",
              "    <tr>\n",
              "      <th>14</th>\n",
              "      <td>Harper</td>\n",
              "      <td>12378956</td>\n",
              "      <td>Computer Science</td>\n",
              "      <td>professional B</td>\n",
              "      <td>neural network</td>\n",
              "      <td>database</td>\n",
              "      <td>Leadership</td>\n",
              "      <td>Technical report writing</td>\n",
              "    </tr>\n",
              "    <tr>\n",
              "      <th>15</th>\n",
              "      <td>Alexander</td>\n",
              "      <td>18765439</td>\n",
              "      <td>Mechanical Engineering</td>\n",
              "      <td>fundamental A</td>\n",
              "      <td>data visualization</td>\n",
              "      <td>machine learning</td>\n",
              "      <td>time management</td>\n",
              "      <td>Market analysis</td>\n",
              "    </tr>\n",
              "    <tr>\n",
              "      <th>16</th>\n",
              "      <td>Evelyn</td>\n",
              "      <td>19827345</td>\n",
              "      <td>Mechanical Engineering</td>\n",
              "      <td>professional B</td>\n",
              "      <td>neural network</td>\n",
              "      <td>database</td>\n",
              "      <td>Technical report writing</td>\n",
              "      <td>Leadership</td>\n",
              "    </tr>\n",
              "    <tr>\n",
              "      <th>17</th>\n",
              "      <td>Jackson</td>\n",
              "      <td>19827654</td>\n",
              "      <td>Data Engineering</td>\n",
              "      <td>professional B</td>\n",
              "      <td>neural network</td>\n",
              "      <td>machine learning</td>\n",
              "      <td>Leadership</td>\n",
              "      <td>Market analysis</td>\n",
              "    </tr>\n",
              "    <tr>\n",
              "      <th>18</th>\n",
              "      <td>Abigail</td>\n",
              "      <td>14567891</td>\n",
              "      <td>Mechanical Engineering</td>\n",
              "      <td>application A</td>\n",
              "      <td>database</td>\n",
              "      <td>UI development</td>\n",
              "      <td>time management</td>\n",
              "      <td>Requirement analysis</td>\n",
              "    </tr>\n",
              "    <tr>\n",
              "      <th>19</th>\n",
              "      <td>Samuel</td>\n",
              "      <td>19827456</td>\n",
              "      <td>Electrical Engineering</td>\n",
              "      <td>application B</td>\n",
              "      <td>machine learning</td>\n",
              "      <td>database</td>\n",
              "      <td>Technical report writing</td>\n",
              "      <td>Teamwork</td>\n",
              "    </tr>\n",
              "  </tbody>\n",
              "</table>\n",
              "</div>\n",
              "      <button class=\"colab-df-convert\" onclick=\"convertToInteractive('df-85708a2b-c54a-4ca5-9d20-6c0ddd027563')\"\n",
              "              title=\"Convert this dataframe to an interactive table.\"\n",
              "              style=\"display:none;\">\n",
              "        \n",
              "  <svg xmlns=\"http://www.w3.org/2000/svg\" height=\"24px\"viewBox=\"0 0 24 24\"\n",
              "       width=\"24px\">\n",
              "    <path d=\"M0 0h24v24H0V0z\" fill=\"none\"/>\n",
              "    <path d=\"M18.56 5.44l.94 2.06.94-2.06 2.06-.94-2.06-.94-.94-2.06-.94 2.06-2.06.94zm-11 1L8.5 8.5l.94-2.06 2.06-.94-2.06-.94L8.5 2.5l-.94 2.06-2.06.94zm10 10l.94 2.06.94-2.06 2.06-.94-2.06-.94-.94-2.06-.94 2.06-2.06.94z\"/><path d=\"M17.41 7.96l-1.37-1.37c-.4-.4-.92-.59-1.43-.59-.52 0-1.04.2-1.43.59L10.3 9.45l-7.72 7.72c-.78.78-.78 2.05 0 2.83L4 21.41c.39.39.9.59 1.41.59.51 0 1.02-.2 1.41-.59l7.78-7.78 2.81-2.81c.8-.78.8-2.07 0-2.86zM5.41 20L4 18.59l7.72-7.72 1.47 1.35L5.41 20z\"/>\n",
              "  </svg>\n",
              "      </button>\n",
              "      \n",
              "  <style>\n",
              "    .colab-df-container {\n",
              "      display:flex;\n",
              "      flex-wrap:wrap;\n",
              "      gap: 12px;\n",
              "    }\n",
              "\n",
              "    .colab-df-convert {\n",
              "      background-color: #E8F0FE;\n",
              "      border: none;\n",
              "      border-radius: 50%;\n",
              "      cursor: pointer;\n",
              "      display: none;\n",
              "      fill: #1967D2;\n",
              "      height: 32px;\n",
              "      padding: 0 0 0 0;\n",
              "      width: 32px;\n",
              "    }\n",
              "\n",
              "    .colab-df-convert:hover {\n",
              "      background-color: #E2EBFA;\n",
              "      box-shadow: 0px 1px 2px rgba(60, 64, 67, 0.3), 0px 1px 3px 1px rgba(60, 64, 67, 0.15);\n",
              "      fill: #174EA6;\n",
              "    }\n",
              "\n",
              "    [theme=dark] .colab-df-convert {\n",
              "      background-color: #3B4455;\n",
              "      fill: #D2E3FC;\n",
              "    }\n",
              "\n",
              "    [theme=dark] .colab-df-convert:hover {\n",
              "      background-color: #434B5C;\n",
              "      box-shadow: 0px 1px 3px 1px rgba(0, 0, 0, 0.15);\n",
              "      filter: drop-shadow(0px 1px 2px rgba(0, 0, 0, 0.3));\n",
              "      fill: #FFFFFF;\n",
              "    }\n",
              "  </style>\n",
              "\n",
              "      <script>\n",
              "        const buttonEl =\n",
              "          document.querySelector('#df-85708a2b-c54a-4ca5-9d20-6c0ddd027563 button.colab-df-convert');\n",
              "        buttonEl.style.display =\n",
              "          google.colab.kernel.accessAllowed ? 'block' : 'none';\n",
              "\n",
              "        async function convertToInteractive(key) {\n",
              "          const element = document.querySelector('#df-85708a2b-c54a-4ca5-9d20-6c0ddd027563');\n",
              "          const dataTable =\n",
              "            await google.colab.kernel.invokeFunction('convertToInteractive',\n",
              "                                                     [key], {});\n",
              "          if (!dataTable) return;\n",
              "\n",
              "          const docLinkHtml = 'Like what you see? Visit the ' +\n",
              "            '<a target=\"_blank\" href=https://colab.research.google.com/notebooks/data_table.ipynb>data table notebook</a>'\n",
              "            + ' to learn more about interactive tables.';\n",
              "          element.innerHTML = '';\n",
              "          dataTable['output_type'] = 'display_data';\n",
              "          await google.colab.output.renderOutput(dataTable, element);\n",
              "          const docLink = document.createElement('div');\n",
              "          docLink.innerHTML = docLinkHtml;\n",
              "          element.appendChild(docLink);\n",
              "        }\n",
              "      </script>\n",
              "    </div>\n",
              "  </div>\n",
              "  "
            ]
          },
          "metadata": {},
          "execution_count": 5
        }
      ]
    },
    {
      "cell_type": "code",
      "source": [
        "unique_values = dataset[['major', 'course level', 'first technical skill', 'second technical skill', 'first non-technical skill', 'second non-technicalskill']].nunique()\n",
        "\n",
        "print(unique_values)\n",
        "for col in ['major', 'course level', 'first technical skill', 'second technical skill', 'first non-technical skill', 'second non-technicalskill']:\n",
        "    value_counts = dataset[col].value_counts()\n",
        "    print(f'column name: {col}\\n{value_counts}\\n')"
      ],
      "metadata": {
        "colab": {
          "base_uri": "https://localhost:8080/"
        },
        "id": "bIMx_xCgAPYd",
        "outputId": "e4278f51-8bf3-42d1-dbef-177c1f6da5f0"
      },
      "execution_count": null,
      "outputs": [
        {
          "output_type": "stream",
          "name": "stdout",
          "text": [
            "major                        4\n",
            "course level                 6\n",
            "first technical skill        7\n",
            "second technical skill       6\n",
            "first non-technical skill    5\n",
            "second non-technicalskill    7\n",
            "dtype: int64\n",
            "column name: major\n",
            "Electrical Engineering    6\n",
            "Mechanical Engineering    6\n",
            "Computer Science          4\n",
            "Data Engineering          4\n",
            "Name: major, dtype: int64\n",
            "\n",
            "column name: course level\n",
            "application A     4\n",
            "application B     4\n",
            "fundamental A     3\n",
            "professional A    3\n",
            "fundamental B     3\n",
            "professional B    3\n",
            "Name: course level, dtype: int64\n",
            "\n",
            "column name: first technical skill\n",
            "machine learning      5\n",
            "neural network        4\n",
            "data visualization    3\n",
            "database              3\n",
            "UI development        2\n",
            "signalology           2\n",
            "python                1\n",
            "Name: first technical skill, dtype: int64\n",
            "\n",
            "column name: second technical skill\n",
            "database              5\n",
            "machine learning      4\n",
            "neural network        4\n",
            "UI development        4\n",
            "data visualization    2\n",
            "signalology           1\n",
            "Name: second technical skill, dtype: int64\n",
            "\n",
            "column name: first non-technical skill\n",
            "Technical report writing    6\n",
            "time management             5\n",
            "Leadership                  5\n",
            "Teamwork                    3\n",
            "Market analysis             1\n",
            "Name: first non-technical skill, dtype: int64\n",
            "\n",
            "column name: second non-technicalskill\n",
            "Technical report writing    5\n",
            "Market analysis             4\n",
            "Teamwork                    3\n",
            "Leadership                  3\n",
            "Requirement analysis        3\n",
            "Time management             1\n",
            "time management             1\n",
            "Name: second non-technicalskill, dtype: int64\n",
            "\n"
          ]
        }
      ]
    },
    {
      "cell_type": "markdown",
      "source": [
        "##2.3 The data is divided into a training set and a test set"
      ],
      "metadata": {
        "id": "mhYr-4rsMWK5"
      }
    },
    {
      "cell_type": "code",
      "source": [
        "# from sklearn.model_selection import train_test_split\n",
        "\n",
        "# X = dataset[['major', 'course level']]\n",
        "# y = dataset[['first technical skill', 'second technical skill', 'first non-technical skill', 'second non-technicalskill']]\n",
        "\n",
        "# X_train, X_test, y_train, y_test = train_test_split(X, y, test_size=0.2, random_state=42)\n"
      ],
      "metadata": {
        "id": "lVzhJrbPMYT6"
      },
      "execution_count": null,
      "outputs": []
    },
    {
      "cell_type": "markdown",
      "source": [
        "#3 bulid modle\n"
      ],
      "metadata": {
        "id": "lZ-L9g64Mfdh"
      }
    },
    {
      "cell_type": "markdown",
      "source": [
        "## 3.1 use library to save all the encoder"
      ],
      "metadata": {
        "id": "e0FuMFOZRkK_"
      }
    },
    {
      "cell_type": "code",
      "source": [
        "#Convert categorical data to numbers\n",
        "from sklearn.preprocessing import LabelEncoder\n",
        "\n",
        "encoders = {}\n",
        "\n",
        "for column in ['major', 'course level', 'first technical skill', 'second technical skill', 'first non-technical skill', 'second non-technicalskill']:\n",
        "    encoders[column] = LabelEncoder()\n",
        "    dataset[column] = encoders[column].fit_transform(dataset[column])\n",
        "print(dataset.head())\n"
      ],
      "metadata": {
        "id": "rKxQw-x7RwKL",
        "colab": {
          "base_uri": "https://localhost:8080/"
        },
        "outputId": "a41886f1-f571-4478-fd6c-0c4517db3486"
      },
      "execution_count": null,
      "outputs": [
        {
          "output_type": "stream",
          "name": "stdout",
          "text": [
            "      name        id  major  course level  first technical skill  \\\n",
            "0     Emma  12345678      0             2                      1   \n",
            "1    Ethan  17852364      2             0                      0   \n",
            "2      Ava  19283746      2             2                      3   \n",
            "3  William  19827356      0             4                      2   \n",
            "4   Sophia  18765432      1             0                      3   \n",
            "\n",
            "   second technical skill  first non-technical skill  \\\n",
            "0                       3                          4   \n",
            "1                       4                          2   \n",
            "2                       1                          2   \n",
            "3                       4                          0   \n",
            "4                       2                          3   \n",
            "\n",
            "   second non-technicalskill  \n",
            "0                          3  \n",
            "1                          4  \n",
            "2                          5  \n",
            "3                          4  \n",
            "4                          1  \n"
          ]
        }
      ]
    },
    {
      "cell_type": "markdown",
      "source": [
        "## 3.2 split dataset to training and test\n"
      ],
      "metadata": {
        "id": "ohBms40fSOvk"
      }
    },
    {
      "cell_type": "code",
      "source": [
        "from sklearn.model_selection import train_test_split\n",
        "\n",
        "X = dataset[['major', 'course level']]\n",
        "y = dataset[['first technical skill', 'second technical skill', 'first non-technical skill', 'second non-technicalskill']]\n",
        "\n",
        "X_train, X_test, y_train, y_test = train_test_split(X, y, test_size=0.2, random_state=42)\n"
      ],
      "metadata": {
        "id": "fYhK521LQabs"
      },
      "execution_count": null,
      "outputs": []
    },
    {
      "cell_type": "markdown",
      "source": [
        "## 3.3 trainning RandomForest\n",
        "\n",
        "\n",
        "\n"
      ],
      "metadata": {
        "id": "su9LM1zqMnRv"
      }
    },
    {
      "cell_type": "code",
      "source": [
        "from sklearn.model_selection import train_test_split\n",
        "\n",
        "X = dataset[['major', 'course level']]\n",
        "y = dataset[['first technical skill', 'second technical skill', 'first non-technical skill', 'second non-technicalskill']]\n",
        "\n",
        "X_train, X_test, y_train, y_test = train_test_split(X, y, test_size=0.2, random_state=42)\n",
        "\n",
        "from sklearn.ensemble import RandomForestClassifier\n",
        "from sklearn.multioutput import MultiOutputClassifier\n",
        "\n",
        "rf = RandomForestClassifier(random_state=42)\n",
        "multi_target_rf = MultiOutputClassifier(rf, n_jobs=-1)\n",
        "multi_target_rf.fit(X_train, y_train)\n"
      ],
      "metadata": {
        "colab": {
          "base_uri": "https://localhost:8080/",
          "height": 118
        },
        "id": "c2jGRWSOMpwI",
        "outputId": "6637455e-9914-4490-df7b-07b1d28a1f76"
      },
      "execution_count": null,
      "outputs": [
        {
          "output_type": "execute_result",
          "data": {
            "text/plain": [
              "MultiOutputClassifier(estimator=RandomForestClassifier(random_state=42),\n",
              "                      n_jobs=-1)"
            ],
            "text/html": [
              "<style>#sk-container-id-1 {color: black;background-color: white;}#sk-container-id-1 pre{padding: 0;}#sk-container-id-1 div.sk-toggleable {background-color: white;}#sk-container-id-1 label.sk-toggleable__label {cursor: pointer;display: block;width: 100%;margin-bottom: 0;padding: 0.3em;box-sizing: border-box;text-align: center;}#sk-container-id-1 label.sk-toggleable__label-arrow:before {content: \"▸\";float: left;margin-right: 0.25em;color: #696969;}#sk-container-id-1 label.sk-toggleable__label-arrow:hover:before {color: black;}#sk-container-id-1 div.sk-estimator:hover label.sk-toggleable__label-arrow:before {color: black;}#sk-container-id-1 div.sk-toggleable__content {max-height: 0;max-width: 0;overflow: hidden;text-align: left;background-color: #f0f8ff;}#sk-container-id-1 div.sk-toggleable__content pre {margin: 0.2em;color: black;border-radius: 0.25em;background-color: #f0f8ff;}#sk-container-id-1 input.sk-toggleable__control:checked~div.sk-toggleable__content {max-height: 200px;max-width: 100%;overflow: auto;}#sk-container-id-1 input.sk-toggleable__control:checked~label.sk-toggleable__label-arrow:before {content: \"▾\";}#sk-container-id-1 div.sk-estimator input.sk-toggleable__control:checked~label.sk-toggleable__label {background-color: #d4ebff;}#sk-container-id-1 div.sk-label input.sk-toggleable__control:checked~label.sk-toggleable__label {background-color: #d4ebff;}#sk-container-id-1 input.sk-hidden--visually {border: 0;clip: rect(1px 1px 1px 1px);clip: rect(1px, 1px, 1px, 1px);height: 1px;margin: -1px;overflow: hidden;padding: 0;position: absolute;width: 1px;}#sk-container-id-1 div.sk-estimator {font-family: monospace;background-color: #f0f8ff;border: 1px dotted black;border-radius: 0.25em;box-sizing: border-box;margin-bottom: 0.5em;}#sk-container-id-1 div.sk-estimator:hover {background-color: #d4ebff;}#sk-container-id-1 div.sk-parallel-item::after {content: \"\";width: 100%;border-bottom: 1px solid gray;flex-grow: 1;}#sk-container-id-1 div.sk-label:hover label.sk-toggleable__label {background-color: #d4ebff;}#sk-container-id-1 div.sk-serial::before {content: \"\";position: absolute;border-left: 1px solid gray;box-sizing: border-box;top: 0;bottom: 0;left: 50%;z-index: 0;}#sk-container-id-1 div.sk-serial {display: flex;flex-direction: column;align-items: center;background-color: white;padding-right: 0.2em;padding-left: 0.2em;position: relative;}#sk-container-id-1 div.sk-item {position: relative;z-index: 1;}#sk-container-id-1 div.sk-parallel {display: flex;align-items: stretch;justify-content: center;background-color: white;position: relative;}#sk-container-id-1 div.sk-item::before, #sk-container-id-1 div.sk-parallel-item::before {content: \"\";position: absolute;border-left: 1px solid gray;box-sizing: border-box;top: 0;bottom: 0;left: 50%;z-index: -1;}#sk-container-id-1 div.sk-parallel-item {display: flex;flex-direction: column;z-index: 1;position: relative;background-color: white;}#sk-container-id-1 div.sk-parallel-item:first-child::after {align-self: flex-end;width: 50%;}#sk-container-id-1 div.sk-parallel-item:last-child::after {align-self: flex-start;width: 50%;}#sk-container-id-1 div.sk-parallel-item:only-child::after {width: 0;}#sk-container-id-1 div.sk-dashed-wrapped {border: 1px dashed gray;margin: 0 0.4em 0.5em 0.4em;box-sizing: border-box;padding-bottom: 0.4em;background-color: white;}#sk-container-id-1 div.sk-label label {font-family: monospace;font-weight: bold;display: inline-block;line-height: 1.2em;}#sk-container-id-1 div.sk-label-container {text-align: center;}#sk-container-id-1 div.sk-container {/* jupyter's `normalize.less` sets `[hidden] { display: none; }` but bootstrap.min.css set `[hidden] { display: none !important; }` so we also need the `!important` here to be able to override the default hidden behavior on the sphinx rendered scikit-learn.org. See: https://github.com/scikit-learn/scikit-learn/issues/21755 */display: inline-block !important;position: relative;}#sk-container-id-1 div.sk-text-repr-fallback {display: none;}</style><div id=\"sk-container-id-1\" class=\"sk-top-container\"><div class=\"sk-text-repr-fallback\"><pre>MultiOutputClassifier(estimator=RandomForestClassifier(random_state=42),\n",
              "                      n_jobs=-1)</pre><b>In a Jupyter environment, please rerun this cell to show the HTML representation or trust the notebook. <br />On GitHub, the HTML representation is unable to render, please try loading this page with nbviewer.org.</b></div><div class=\"sk-container\" hidden><div class=\"sk-item sk-dashed-wrapped\"><div class=\"sk-label-container\"><div class=\"sk-label sk-toggleable\"><input class=\"sk-toggleable__control sk-hidden--visually\" id=\"sk-estimator-id-1\" type=\"checkbox\" ><label for=\"sk-estimator-id-1\" class=\"sk-toggleable__label sk-toggleable__label-arrow\">MultiOutputClassifier</label><div class=\"sk-toggleable__content\"><pre>MultiOutputClassifier(estimator=RandomForestClassifier(random_state=42),\n",
              "                      n_jobs=-1)</pre></div></div></div><div class=\"sk-parallel\"><div class=\"sk-parallel-item\"><div class=\"sk-item\"><div class=\"sk-label-container\"><div class=\"sk-label sk-toggleable\"><input class=\"sk-toggleable__control sk-hidden--visually\" id=\"sk-estimator-id-2\" type=\"checkbox\" ><label for=\"sk-estimator-id-2\" class=\"sk-toggleable__label sk-toggleable__label-arrow\">estimator: RandomForestClassifier</label><div class=\"sk-toggleable__content\"><pre>RandomForestClassifier(random_state=42)</pre></div></div></div><div class=\"sk-serial\"><div class=\"sk-item\"><div class=\"sk-estimator sk-toggleable\"><input class=\"sk-toggleable__control sk-hidden--visually\" id=\"sk-estimator-id-3\" type=\"checkbox\" ><label for=\"sk-estimator-id-3\" class=\"sk-toggleable__label sk-toggleable__label-arrow\">RandomForestClassifier</label><div class=\"sk-toggleable__content\"><pre>RandomForestClassifier(random_state=42)</pre></div></div></div></div></div></div></div></div></div></div>"
            ]
          },
          "metadata": {},
          "execution_count": 10
        }
      ]
    },
    {
      "cell_type": "markdown",
      "source": [
        "## 3.4 evaluate"
      ],
      "metadata": {
        "id": "HTOpise7M3Hn"
      }
    },
    {
      "cell_type": "code",
      "source": [
        "from sklearn.metrics import classification_report, accuracy_score\n",
        "\n",
        "y_pred = multi_target_rf.predict(X_test)\n",
        "\n",
        "\n",
        "def individual_accuracy(y_true, y_pred):\n",
        "    return np.mean([accuracy_score(y_true[col], y_pred[:, idx]) for idx, col in enumerate(y_true.columns)])\n",
        "\n",
        "print(\"Accuracy Score: \", individual_accuracy(y_test, y_pred))\n",
        "\n",
        "def print_classification_reports(y_true, y_pred):\n",
        "    for idx, col in enumerate(y_true.columns):\n",
        "        print(f\"Classification Report for {col}:\")\n",
        "        print(classification_report(y_true[col], y_pred[:, idx]))\n",
        "        print(\"\\n\")\n",
        "\n",
        "print_classification_reports(y_test, y_pred)\n"
      ],
      "metadata": {
        "colab": {
          "base_uri": "https://localhost:8080/"
        },
        "id": "PGT-9mAsM_aG",
        "outputId": "2d12db4d-4292-4f5f-ba0b-cb8086564f4a"
      },
      "execution_count": null,
      "outputs": [
        {
          "output_type": "stream",
          "name": "stdout",
          "text": [
            "Accuracy Score:  0.125\n",
            "Classification Report for first technical skill:\n",
            "              precision    recall  f1-score   support\n",
            "\n",
            "           0       0.00      0.00      0.00       1.0\n",
            "           1       0.00      0.00      0.00       2.0\n",
            "           3       0.00      0.00      0.00       0.0\n",
            "           4       0.00      0.00      0.00       1.0\n",
            "           5       0.00      0.00      0.00       0.0\n",
            "\n",
            "    accuracy                           0.00       4.0\n",
            "   macro avg       0.00      0.00      0.00       4.0\n",
            "weighted avg       0.00      0.00      0.00       4.0\n",
            "\n",
            "\n",
            "\n",
            "Classification Report for second technical skill:\n",
            "              precision    recall  f1-score   support\n",
            "\n",
            "           0       0.00      0.00      0.00       0.0\n",
            "           1       0.00      0.00      0.00       0.0\n",
            "           2       0.00      0.00      0.00       0.0\n",
            "           3       0.00      0.00      0.00       3.0\n",
            "           4       0.00      0.00      0.00       1.0\n",
            "           5       0.00      0.00      0.00       0.0\n",
            "\n",
            "    accuracy                           0.00       4.0\n",
            "   macro avg       0.00      0.00      0.00       4.0\n",
            "weighted avg       0.00      0.00      0.00       4.0\n",
            "\n",
            "\n",
            "\n",
            "Classification Report for first non-technical skill:\n",
            "              precision    recall  f1-score   support\n",
            "\n",
            "           0       0.50      1.00      0.67         1\n",
            "           2       0.00      0.00      0.00         1\n",
            "           3       0.00      0.00      0.00         0\n",
            "           4       1.00      0.50      0.67         2\n",
            "\n",
            "    accuracy                           0.50         4\n",
            "   macro avg       0.38      0.38      0.33         4\n",
            "weighted avg       0.62      0.50      0.50         4\n",
            "\n",
            "\n",
            "\n",
            "Classification Report for second non-technicalskill:\n",
            "              precision    recall  f1-score   support\n",
            "\n",
            "           1       0.00      0.00      0.00       2.0\n",
            "           2       0.00      0.00      0.00       0.0\n",
            "           3       0.00      0.00      0.00       1.0\n",
            "           4       0.00      0.00      0.00       1.0\n",
            "\n",
            "    accuracy                           0.00       4.0\n",
            "   macro avg       0.00      0.00      0.00       4.0\n",
            "weighted avg       0.00      0.00      0.00       4.0\n",
            "\n",
            "\n",
            "\n"
          ]
        },
        {
          "output_type": "stream",
          "name": "stderr",
          "text": [
            "/usr/local/lib/python3.10/dist-packages/sklearn/metrics/_classification.py:1344: UndefinedMetricWarning: Precision and F-score are ill-defined and being set to 0.0 in labels with no predicted samples. Use `zero_division` parameter to control this behavior.\n",
            "  _warn_prf(average, modifier, msg_start, len(result))\n",
            "/usr/local/lib/python3.10/dist-packages/sklearn/metrics/_classification.py:1344: UndefinedMetricWarning: Recall and F-score are ill-defined and being set to 0.0 in labels with no true samples. Use `zero_division` parameter to control this behavior.\n",
            "  _warn_prf(average, modifier, msg_start, len(result))\n",
            "/usr/local/lib/python3.10/dist-packages/sklearn/metrics/_classification.py:1344: UndefinedMetricWarning: Precision and F-score are ill-defined and being set to 0.0 in labels with no predicted samples. Use `zero_division` parameter to control this behavior.\n",
            "  _warn_prf(average, modifier, msg_start, len(result))\n",
            "/usr/local/lib/python3.10/dist-packages/sklearn/metrics/_classification.py:1344: UndefinedMetricWarning: Recall and F-score are ill-defined and being set to 0.0 in labels with no true samples. Use `zero_division` parameter to control this behavior.\n",
            "  _warn_prf(average, modifier, msg_start, len(result))\n",
            "/usr/local/lib/python3.10/dist-packages/sklearn/metrics/_classification.py:1344: UndefinedMetricWarning: Precision and F-score are ill-defined and being set to 0.0 in labels with no predicted samples. Use `zero_division` parameter to control this behavior.\n",
            "  _warn_prf(average, modifier, msg_start, len(result))\n",
            "/usr/local/lib/python3.10/dist-packages/sklearn/metrics/_classification.py:1344: UndefinedMetricWarning: Recall and F-score are ill-defined and being set to 0.0 in labels with no true samples. Use `zero_division` parameter to control this behavior.\n",
            "  _warn_prf(average, modifier, msg_start, len(result))\n",
            "/usr/local/lib/python3.10/dist-packages/sklearn/metrics/_classification.py:1344: UndefinedMetricWarning: Precision and F-score are ill-defined and being set to 0.0 in labels with no predicted samples. Use `zero_division` parameter to control this behavior.\n",
            "  _warn_prf(average, modifier, msg_start, len(result))\n",
            "/usr/local/lib/python3.10/dist-packages/sklearn/metrics/_classification.py:1344: UndefinedMetricWarning: Recall and F-score are ill-defined and being set to 0.0 in labels with no true samples. Use `zero_division` parameter to control this behavior.\n",
            "  _warn_prf(average, modifier, msg_start, len(result))\n",
            "/usr/local/lib/python3.10/dist-packages/sklearn/metrics/_classification.py:1344: UndefinedMetricWarning: Precision and F-score are ill-defined and being set to 0.0 in labels with no predicted samples. Use `zero_division` parameter to control this behavior.\n",
            "  _warn_prf(average, modifier, msg_start, len(result))\n",
            "/usr/local/lib/python3.10/dist-packages/sklearn/metrics/_classification.py:1344: UndefinedMetricWarning: Recall and F-score are ill-defined and being set to 0.0 in labels with no true samples. Use `zero_division` parameter to control this behavior.\n",
            "  _warn_prf(average, modifier, msg_start, len(result))\n",
            "/usr/local/lib/python3.10/dist-packages/sklearn/metrics/_classification.py:1344: UndefinedMetricWarning: Precision and F-score are ill-defined and being set to 0.0 in labels with no predicted samples. Use `zero_division` parameter to control this behavior.\n",
            "  _warn_prf(average, modifier, msg_start, len(result))\n",
            "/usr/local/lib/python3.10/dist-packages/sklearn/metrics/_classification.py:1344: UndefinedMetricWarning: Recall and F-score are ill-defined and being set to 0.0 in labels with no true samples. Use `zero_division` parameter to control this behavior.\n",
            "  _warn_prf(average, modifier, msg_start, len(result))\n",
            "/usr/local/lib/python3.10/dist-packages/sklearn/metrics/_classification.py:1344: UndefinedMetricWarning: Precision and F-score are ill-defined and being set to 0.0 in labels with no predicted samples. Use `zero_division` parameter to control this behavior.\n",
            "  _warn_prf(average, modifier, msg_start, len(result))\n",
            "/usr/local/lib/python3.10/dist-packages/sklearn/metrics/_classification.py:1344: UndefinedMetricWarning: Recall and F-score are ill-defined and being set to 0.0 in labels with no true samples. Use `zero_division` parameter to control this behavior.\n",
            "  _warn_prf(average, modifier, msg_start, len(result))\n",
            "/usr/local/lib/python3.10/dist-packages/sklearn/metrics/_classification.py:1344: UndefinedMetricWarning: Precision and F-score are ill-defined and being set to 0.0 in labels with no predicted samples. Use `zero_division` parameter to control this behavior.\n",
            "  _warn_prf(average, modifier, msg_start, len(result))\n",
            "/usr/local/lib/python3.10/dist-packages/sklearn/metrics/_classification.py:1344: UndefinedMetricWarning: Recall and F-score are ill-defined and being set to 0.0 in labels with no true samples. Use `zero_division` parameter to control this behavior.\n",
            "  _warn_prf(average, modifier, msg_start, len(result))\n",
            "/usr/local/lib/python3.10/dist-packages/sklearn/metrics/_classification.py:1344: UndefinedMetricWarning: Precision and F-score are ill-defined and being set to 0.0 in labels with no predicted samples. Use `zero_division` parameter to control this behavior.\n",
            "  _warn_prf(average, modifier, msg_start, len(result))\n",
            "/usr/local/lib/python3.10/dist-packages/sklearn/metrics/_classification.py:1344: UndefinedMetricWarning: Recall and F-score are ill-defined and being set to 0.0 in labels with no true samples. Use `zero_division` parameter to control this behavior.\n",
            "  _warn_prf(average, modifier, msg_start, len(result))\n",
            "/usr/local/lib/python3.10/dist-packages/sklearn/metrics/_classification.py:1344: UndefinedMetricWarning: Precision and F-score are ill-defined and being set to 0.0 in labels with no predicted samples. Use `zero_division` parameter to control this behavior.\n",
            "  _warn_prf(average, modifier, msg_start, len(result))\n",
            "/usr/local/lib/python3.10/dist-packages/sklearn/metrics/_classification.py:1344: UndefinedMetricWarning: Recall and F-score are ill-defined and being set to 0.0 in labels with no true samples. Use `zero_division` parameter to control this behavior.\n",
            "  _warn_prf(average, modifier, msg_start, len(result))\n",
            "/usr/local/lib/python3.10/dist-packages/sklearn/metrics/_classification.py:1344: UndefinedMetricWarning: Precision and F-score are ill-defined and being set to 0.0 in labels with no predicted samples. Use `zero_division` parameter to control this behavior.\n",
            "  _warn_prf(average, modifier, msg_start, len(result))\n",
            "/usr/local/lib/python3.10/dist-packages/sklearn/metrics/_classification.py:1344: UndefinedMetricWarning: Recall and F-score are ill-defined and being set to 0.0 in labels with no true samples. Use `zero_division` parameter to control this behavior.\n",
            "  _warn_prf(average, modifier, msg_start, len(result))\n",
            "/usr/local/lib/python3.10/dist-packages/sklearn/metrics/_classification.py:1344: UndefinedMetricWarning: Precision and F-score are ill-defined and being set to 0.0 in labels with no predicted samples. Use `zero_division` parameter to control this behavior.\n",
            "  _warn_prf(average, modifier, msg_start, len(result))\n",
            "/usr/local/lib/python3.10/dist-packages/sklearn/metrics/_classification.py:1344: UndefinedMetricWarning: Recall and F-score are ill-defined and being set to 0.0 in labels with no true samples. Use `zero_division` parameter to control this behavior.\n",
            "  _warn_prf(average, modifier, msg_start, len(result))\n"
          ]
        }
      ]
    },
    {
      "cell_type": "markdown",
      "source": [
        "#4 prediction"
      ],
      "metadata": {
        "id": "XNCP4rCUN5CL"
      }
    },
    {
      "cell_type": "code",
      "source": [
        "# def recommend_skills(major, course_level):\n",
        "#     input_data = pd.DataFrame([[major, course_level]], columns=['major', 'course level'])\n",
        "\n",
        "#     input_data_encoded = input_data.copy()\n",
        "\n",
        "#     for column in ['major', 'course level']:\n",
        "#         input_data_encoded[column] = encoders[column].transform(input_data[column].values)  # Use the appropriate encoder from the encoders dictionary\n",
        "\n",
        "#     predictions = multi_target_rf.predict(input_data_encoded)\n",
        "    \n",
        "#     decoded_predictions = []\n",
        "#     for idx, column in enumerate(['first technical skill', 'second technical skill', 'first non-technical skill', 'second non-technicalskill']):\n",
        "#         decoded_predictions.append(encoders[column].inverse_transform([predictions[0][idx]])[0])\n",
        "\n",
        "#     return {\n",
        "#         'first technical skill': decoded_predictions[0],\n",
        "#         'second technical skill': decoded_predictions[1],\n",
        "#         'first non-technical skill': decoded_predictions[2],\n",
        "#         'second non-technical skill': decoded_predictions[3]\n",
        "#     }\n",
        "\n",
        "# major = 'Electrical Engineering'\n",
        "# course_level = 'application A'\n",
        "\n",
        "# recommendation = recommend_skills(major, course_level)\n",
        "# print(\"推荐技能：\")\n",
        "# for skill, value in recommendation.items():\n",
        "#     print(f\"{skill}: {value}\")\n",
        "\n"
      ],
      "metadata": {
        "id": "f5lS7I30ZdSL"
      },
      "execution_count": null,
      "outputs": []
    },
    {
      "cell_type": "code",
      "source": [
        "\n",
        "def recommend_skills(major, course_level):\n",
        "    input_data = pd.DataFrame([[major, course_level]], columns=['major', 'course level'])\n",
        "\n",
        "    input_data_encoded = input_data.copy()\n",
        "\n",
        "    for column in ['major', 'course level']:\n",
        "        input_data_encoded[column] = encoders[column].transform(input_data[column].values)  # Use the appropriate encoder from the encoders dictionary\n",
        "\n",
        "    predictions = multi_target_rf.predict(input_data_encoded)\n",
        "    \n",
        "    decoded_predictions = []\n",
        "    for idx, column in enumerate(['first technical skill', 'second technical skill', 'first non-technical skill', 'second non-technicalskill']):\n",
        "        decoded_predictions.append(encoders[column].inverse_transform([predictions[0][idx]])[0])\n",
        "\n",
        "    return {\n",
        "        'first technical skill': decoded_predictions[0],\n",
        "        'second technical skill': decoded_predictions[1],\n",
        "        'first non-technical skill': decoded_predictions[2],\n",
        "        'second non-technical skill': decoded_predictions[3]\n",
        "    }\n",
        "\n"
      ],
      "metadata": {
        "id": "8-Bakd-LN9DK"
      },
      "execution_count": null,
      "outputs": []
    },
    {
      "cell_type": "code",
      "source": [
        "major = 'Data Engineering'\n",
        "course_level = 'professional B'\n",
        "\n",
        "recommendation = recommend_skills(major, course_level)\n",
        "print(\"recommend_skills：\")\n",
        "for skill, value in recommendation.items():\n",
        "    print(f\"{skill}: {value}\")"
      ],
      "metadata": {
        "colab": {
          "base_uri": "https://localhost:8080/"
        },
        "id": "YnaVo2BrOEI1",
        "outputId": "eb29af0f-1e2b-468a-bc92-4e08c9b6c7bc"
      },
      "execution_count": null,
      "outputs": [
        {
          "output_type": "stream",
          "name": "stdout",
          "text": [
            "recommend_skills：\n",
            "first technical skill: machine learning\n",
            "second technical skill: UI development\n",
            "first non-technical skill: Technical report writing\n",
            "second non-technical skill: Requirement analysis\n"
          ]
        }
      ]
    }
  ]
}